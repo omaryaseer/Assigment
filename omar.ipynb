{
 "cells": [
  {
   "cell_type": "code",
   "execution_count": 1,
   "id": "eeb29d5f-12d7-4515-9b3a-349c064d9732",
   "metadata": {},
   "outputs": [
    {
     "ename": "TypeError",
     "evalue": "Library() takes no arguments",
     "output_type": "error",
     "traceback": [
      "\u001b[1;31m---------------------------------------------------------------------------\u001b[0m",
      "\u001b[1;31mTypeError\u001b[0m                                 Traceback (most recent call last)",
      "Cell \u001b[1;32mIn[1], line 32\u001b[0m\n\u001b[0;32m     29\u001b[0m     \u001b[38;5;28;01mdef\u001b[39;00m \u001b[38;5;21madd_book\u001b[39m(\u001b[38;5;28mself\u001b[39m,book):\n\u001b[0;32m     30\u001b[0m         \u001b[38;5;28mself\u001b[39m\u001b[38;5;241m.\u001b[39mbooklist\u001b[38;5;241m.\u001b[39mappend(book)\n\u001b[1;32m---> 32\u001b[0m Harry \u001b[38;5;241m=\u001b[39m Library([\u001b[38;5;124m'\u001b[39m\u001b[38;5;124mPython\u001b[39m\u001b[38;5;124m'\u001b[39m,\u001b[38;5;124m'\u001b[39m\u001b[38;5;124mRich Dad Poor Dad\u001b[39m\u001b[38;5;124m'\u001b[39m,\u001b[38;5;124m'\u001b[39m\u001b[38;5;124mHarry Potter\u001b[39m\u001b[38;5;124m'\u001b[39m,\u001b[38;5;124m'\u001b[39m\u001b[38;5;124mC++ Basics\u001b[39m\u001b[38;5;124m'\u001b[39m, \u001b[38;5;124m'\u001b[39m\u001b[38;5;124mAlgorithms by CLRS\u001b[39m\u001b[38;5;124m'\u001b[39m], \u001b[38;5;124m\"\u001b[39m\u001b[38;5;124mCodeWithHarry\u001b[39m\u001b[38;5;124m\"\u001b[39m)\n",
      "\u001b[1;31mTypeError\u001b[0m: Library() takes no arguments"
     ]
    }
   ],
   "source": [
    "class Library:\n",
    "    def _init_(self,booklist,name,lended_books = {}):\n",
    "        #Assuming that 'booklist' are all the books that belong to the library, whether they were borrowed or not.\n",
    "        self.booklist = booklist\n",
    "        self.name = name\n",
    "        self.lended_books = lended_books\n",
    "\n",
    "    def display_available(self):\n",
    "        if len(self.booklist) >0:\n",
    "            for i in self.booklist:\n",
    "                if i not in self.lended_books:\n",
    "                    print(i)\n",
    "        else:\n",
    "            print(\"There are no books available at the moment.\")\n",
    "\n",
    "    def lend_book(self,book,client):\n",
    "        if book  not in self.lended_books:\n",
    "            if book in self.booklist:\n",
    "                self.lended_books[client] = book\n",
    "                \n",
    "            else:\n",
    "                print(\"This book is not in the library.\")\n",
    "    def return_lended(self,book):\n",
    "        if book in self.lended_books:\n",
    "            self.lended_books.remove(book)\n",
    "        else:\n",
    "            print(\"The book has not been borrowed by anyone.\")\n",
    "\n",
    "    def add_book(self,book):\n",
    "        self.booklist.append(book)\n",
    "\n",
    "Harry = Library(['Python','Rich Dad Poor Dad','Harry Potter','C++ Basics', 'Algorithms by CLRS'], \"CodeWithHarry\")"
   ]
  },
  {
   "cell_type": "code",
   "execution_count": 17,
   "id": "0662e53f-29bd-41e2-920d-ae9ab2d320d0",
   "metadata": {},
   "outputs": [
    {
     "name": "stdout",
     "output_type": "stream",
     "text": [
      "Books available in CodeWithHarry Library:\n",
      "- Python\n",
      "- Rich Dad Poor Dad\n",
      "- Harry Potter\n",
      "- C++ Basics\n",
      "- Algorithms by CLRS\n"
     ]
    }
   ],
   "source": [
    "class Library:\n",
    "    def __init__(self, booklist, name, lended_books=None):\n",
    "        self.booklist = booklist\n",
    "        self.name = name\n",
    "\n",
    "        self.lended_books = lended_books if lended_books is not None else {}\n",
    "\n",
    "    def display_available(self):\n",
    "        \n",
    "        available_books = [book for book in self.booklist if book not in self.lended_books.values()]\n",
    "        if available_books:\n",
    "            print(f\"Books available in {self.name}:\")\n",
    "            for book in available_books:\n",
    "                print(f\"- {book}\")\n",
    "        else:\n",
    "            print(f\"There are no books available in {self.name} at the moment.\")\n",
    "\n",
    "    def lend_book(self, book, client):\n",
    "       \n",
    "        if book in self.booklist and book not in self.lended_books.values():\n",
    "            self.lended_books[client] = book\n",
    "            print(f\"The book '{book}' has been lent to {client}.\")\n",
    "        elif book in self.lended_books.values():\n",
    "            print(f\"Sorry, the book '{book}' is already lent out.\")\n",
    "        else:\n",
    "            print(f\"Sorry, the book '{book}' is not available in the library.\")\n",
    "\n",
    "    def return_lended(self, book):\n",
    "       \n",
    "        for client, borrowed_book in self.lended_books.items():\n",
    "            if borrowed_book == book:\n",
    "                del self.lended_books[client]\n",
    "                print(f\"The book '{book}' has been returned.\")\n",
    "                return\n",
    "        print(f\"The book '{book}' was not borrowed.\")\n",
    "\n",
    "def add_book(self, book):\n",
    "        \n",
    "    if book not in booklist:\n",
    "            self.booklist.append(book)\n",
    "            print(f\"The book '{book}' has been added to the library.\")\n",
    "        \n",
    "    else:  \n",
    "        print(f\"The book '{book}' is already in the library.\")\n",
    "\n",
    "library = Library(\n",
    "    ['Python', 'Rich Dad Poor Dad', 'Harry Potter', 'C++ Basics', 'Algorithms by CLRS'],\n",
    "    \"CodeWithHarry Library\"\n",
    ")\n",
    "\n",
    "\n",
    "library.display_available()\n",
    "\n",
    "\n",
    "\n"
   ]
  },
  {
   "cell_type": "code",
   "execution_count": null,
   "id": "1708d93d-2811-4b49-80d0-c4baccdf5994",
   "metadata": {},
   "outputs": [],
   "source": []
  }
 ],
 "metadata": {
  "kernelspec": {
   "display_name": "Python 3 (ipykernel)",
   "language": "python",
   "name": "python3"
  },
  "language_info": {
   "codemirror_mode": {
    "name": "ipython",
    "version": 3
   },
   "file_extension": ".py",
   "mimetype": "text/x-python",
   "name": "python",
   "nbconvert_exporter": "python",
   "pygments_lexer": "ipython3",
   "version": "3.12.4"
  }
 },
 "nbformat": 4,
 "nbformat_minor": 5
}
